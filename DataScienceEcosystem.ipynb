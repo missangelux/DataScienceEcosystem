{
  "metadata": {
    "language_info": {
      "codemirror_mode": {
        "name": "python",
        "version": 3
      },
      "file_extension": ".py",
      "mimetype": "text/x-python",
      "name": "python",
      "nbconvert_exporter": "python",
      "pygments_lexer": "ipython3",
      "version": "3.8"
    },
    "kernelspec": {
      "name": "python",
      "display_name": "Python (Pyodide)",
      "language": "python"
    }
  },
  "nbformat_minor": 4,
  "nbformat": 4,
  "cells": [
    {
      "cell_type": "markdown",
      "source": "# Data Science Tools and Ecosystem",
      "metadata": {}
    },
    {
      "cell_type": "markdown",
      "source": "## Introduction \n\nIn this notebook, Data Science Tool and Ecosystem are summerized",
      "metadata": {}
    },
    {
      "cell_type": "markdown",
      "source": "## Objectives:\n\n- List popular languages for Data Science.\n- Introduce commonly used Data Science libraries.\n- Explore examples of evaluating arithmetic expressions in Python.\n- Convert minutes to hours using Python.\n- Provide insights into Data Science tools and ecosystems.\n",
      "metadata": {}
    },
    {
      "cell_type": "markdown",
      "source": "## Data Science Languages\n\nSome of the popular languages that Data Scientist use are:\n\n1. Python\n2. JavaScript\n3. Scala\n4. R\n5. SQL\n6. Julia\n",
      "metadata": {}
    },
    {
      "cell_type": "markdown",
      "source": "## Data Science Libraries\n\nSome of the commonly used libraries used by Data Scientisti incluse:\n    \n    1. NumPy\n    2. Pandas\n    3. Matplotlib\n    4. scikit-learn",
      "metadata": {}
    },
    {
      "cell_type": "markdown",
      "source": "## Data Science tools\n\n|Data Science tools|\n|------------------|\n|Jupyter Notebook  |\n|R Studio          |\n| Visual Studio Code|\n\n",
      "metadata": {}
    },
    {
      "cell_type": "markdown",
      "source": "### Examples of Evaluating Arithmetic Expressions in Python\n\nIn this section, we'll explore a few examples of how to evaluate arithmetic expressions in Python. We'll cover basic arithmetic operations and demonstrate how Python handles them.\n",
      "metadata": {}
    },
    {
      "cell_type": "markdown",
      "source": "This a simple arithmetic expression to mutiply then add integers",
      "metadata": {}
    },
    {
      "cell_type": "code",
      "source": "(3*4)+5",
      "metadata": {
        "trusted": true
      },
      "execution_count": 5,
      "outputs": [
        {
          "execution_count": 5,
          "output_type": "execute_result",
          "data": {
            "text/plain": "17"
          },
          "metadata": {}
        }
      ]
    },
    {
      "cell_type": "markdown",
      "source": "This will convert 200 minutes to hours by diving by 60.",
      "metadata": {}
    },
    {
      "cell_type": "code",
      "source": "# Convert minutes to hours\nminutes = 200\nhours = minutes / 60\nhours\n",
      "metadata": {
        "trusted": true
      },
      "execution_count": 10,
      "outputs": [
        {
          "execution_count": 10,
          "output_type": "execute_result",
          "data": {
            "text/plain": "3.3333333333333335"
          },
          "metadata": {}
        }
      ]
    },
    {
      "cell_type": "markdown",
      "source": "## Author\n\nMaria Angelica Mejia Caceres\n",
      "metadata": {}
    },
    {
      "cell_type": "code",
      "source": "",
      "metadata": {},
      "execution_count": null,
      "outputs": []
    }
  ]
}